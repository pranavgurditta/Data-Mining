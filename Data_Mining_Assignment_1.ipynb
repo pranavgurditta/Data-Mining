{
  "nbformat": 4,
  "nbformat_minor": 0,
  "metadata": {
    "colab": {
      "name": "Data_Mining_Assignment_1.ipynb",
      "provenance": [],
      "collapsed_sections": [],
      "include_colab_link": true
    },
    "kernelspec": {
      "name": "python3",
      "display_name": "Python 3"
    }
  },
  "cells": [
    {
      "cell_type": "markdown",
      "metadata": {
        "id": "view-in-github",
        "colab_type": "text"
      },
      "source": [
        "<a href=\"https://colab.research.google.com/github/pranavgurditta/Data-Mining/blob/master/Data_Mining_Assignment_1.ipynb\" target=\"_parent\"><img src=\"https://colab.research.google.com/assets/colab-badge.svg\" alt=\"Open In Colab\"/></a>"
      ]
    },
    {
      "cell_type": "markdown",
      "metadata": {
        "id": "s2dbMGNJHjvx",
        "colab_type": "text"
      },
      "source": [
        "## **Question 1: Identify and describe the given dataset.**\n",
        "\n",
        "\n",
        "The given dataset consists of details about various machines like vendor name, model name, machince cycle time, minimum main memory, maximum main memory, cache memory, minimum channels in units, maximum channels in units, published relative performance to help us know the correspondence between all these attributes(details) and **estimated relative performance.**\n",
        "\n",
        "The given computer hardware data set helps us to know about the different vendors selling machines with different configurations and how the different configurations affect estimated relative performance of the machine.\n",
        "\n",
        "\n",
        "The attributes present in the data set along with full forms (if present) are given as follows:\n",
        "* vendor name\n",
        "* Model Name\n",
        "* MMIN: minimum main memory in kilobytes\n",
        "* MMAX: maximum main memory in kilobytes\n",
        "* CACH: cache memory in kilobytes\n",
        "* CHMIN: minimum channels in units\n",
        "* HMAX: maximum channels in units\n",
        "* PRP: published relative performance\n",
        "* ERP: estimated relative performance from the original article\n",
        "\n",
        "\n"
      ]
    },
    {
      "cell_type": "markdown",
      "metadata": {
        "id": "frmHCBcjjbic",
        "colab_type": "text"
      },
      "source": [
        "\n",
        "\n",
        "---\n",
        "\n",
        "\n"
      ]
    },
    {
      "cell_type": "markdown",
      "metadata": {
        "id": "Y8QKUJpLMBrR",
        "colab_type": "text"
      },
      "source": [
        "## **Question 2: How data mining might prove to be beneficial for the given dataset?**\n",
        "\n",
        "\n",
        "Data mining might prove beneficial for the given dataset as we could :\n",
        "\n",
        "* Predict estimated relative performance (ERP) using Linear Regression.\n",
        "* Cluster machines based on estimated relative performance (ERP)/ published relative performance (PRP).\n",
        "* Classify machines based on high/low memory requirements.\n",
        "\n",
        "\n",
        "\n",
        "\n",
        "\n",
        "\n",
        "\n",
        "\n"
      ]
    },
    {
      "cell_type": "markdown",
      "metadata": {
        "id": "vjFyfqJsjMtD",
        "colab_type": "text"
      },
      "source": [
        "      \n",
        "       \n",
        "        \n",
        "\n",
        "\n",
        "-----------------------------------------------------------------------------\n",
        "\n",
        "\n",
        "\n"
      ]
    },
    {
      "cell_type": "markdown",
      "metadata": {
        "id": "dwhK8ikSI_7W",
        "colab_type": "text"
      },
      "source": [
        "## **Question 3: What type of data mining task (classification, clustering, etc.) would be relevant for the given dataset? Illustrate with an example.**\n",
        "\n",
        "The following data mining tasks can be accomplished based on \n",
        "\n",
        "* **We could predict the estimated relative performance using Linear Regression.**\n",
        "\n",
        "**Real life use case**: This could help the machine manufacturers to predict what effect would a certain value of machine cycle time/minimum main memory have on estimated relative performance of the machine, hence it would ease the machine manufacturing process as precise effect of change in machine cycle time/minimum main memory would be known.\n",
        "\n",
        "* **We could cluster the machines based on their published/estimated relative performance.**\n",
        "\n",
        "**Real life use case**: This could help in real life scenarios like procuring machines on a large level for an exam/lab work, it is quite difficult to get a lot of quantity of the same machine. Hence we could purchase machines by clustering them based on our requirement of matching a certain criteria of published/estimated relative performance.\n",
        "\n",
        "\n",
        "* **We could also classify machines based on high/low memory requirements.**\n",
        "\n"
      ]
    },
    {
      "cell_type": "markdown",
      "metadata": {
        "id": "wkWIsfLPjebX",
        "colab_type": "text"
      },
      "source": [
        "\n",
        "\n",
        "---\n",
        "\n",
        "\n",
        "\n",
        "\n"
      ]
    },
    {
      "cell_type": "markdown",
      "metadata": {
        "id": "FNLp2J9Nj-SM",
        "colab_type": "text"
      },
      "source": [
        "# **Reading the machines data into a dataframe named df.**"
      ]
    },
    {
      "cell_type": "code",
      "metadata": {
        "id": "zWGi7feQbIKm",
        "colab_type": "code",
        "colab": {
          "base_uri": "https://localhost:8080/",
          "height": 419
        },
        "outputId": "e7d0c9c3-10ad-4be1-c25b-cd93a9fe8d40"
      },
      "source": [
        "import pandas as pd\n",
        "url=\"https://raw.githubusercontent.com/pranavgurditta/Data-Mining/master/machine.csv\" \n",
        "df=pd.read_csv(url,header=None,names=['vendor name', 'Model Name', 'MYCT','MMIN', 'MMAX' ,'CACH','CHMIN','CHMAX','PRP','ERP'])\n",
        "df.reset_index(level=0,inplace=True)\n",
        "df"
      ],
      "execution_count": 1,
      "outputs": [
        {
          "output_type": "execute_result",
          "data": {
            "text/html": [
              "<div>\n",
              "<style scoped>\n",
              "    .dataframe tbody tr th:only-of-type {\n",
              "        vertical-align: middle;\n",
              "    }\n",
              "\n",
              "    .dataframe tbody tr th {\n",
              "        vertical-align: top;\n",
              "    }\n",
              "\n",
              "    .dataframe thead th {\n",
              "        text-align: right;\n",
              "    }\n",
              "</style>\n",
              "<table border=\"1\" class=\"dataframe\">\n",
              "  <thead>\n",
              "    <tr style=\"text-align: right;\">\n",
              "      <th></th>\n",
              "      <th>index</th>\n",
              "      <th>vendor name</th>\n",
              "      <th>Model Name</th>\n",
              "      <th>MYCT</th>\n",
              "      <th>MMIN</th>\n",
              "      <th>MMAX</th>\n",
              "      <th>CACH</th>\n",
              "      <th>CHMIN</th>\n",
              "      <th>CHMAX</th>\n",
              "      <th>PRP</th>\n",
              "      <th>ERP</th>\n",
              "    </tr>\n",
              "  </thead>\n",
              "  <tbody>\n",
              "    <tr>\n",
              "      <th>0</th>\n",
              "      <td>0</td>\n",
              "      <td>adviser</td>\n",
              "      <td>32/60</td>\n",
              "      <td>125</td>\n",
              "      <td>256</td>\n",
              "      <td>6000</td>\n",
              "      <td>256</td>\n",
              "      <td>16</td>\n",
              "      <td>128</td>\n",
              "      <td>198</td>\n",
              "      <td>199</td>\n",
              "    </tr>\n",
              "    <tr>\n",
              "      <th>1</th>\n",
              "      <td>1</td>\n",
              "      <td>amdahl</td>\n",
              "      <td>470v/7</td>\n",
              "      <td>29</td>\n",
              "      <td>8000</td>\n",
              "      <td>32000</td>\n",
              "      <td>32</td>\n",
              "      <td>8</td>\n",
              "      <td>32</td>\n",
              "      <td>269</td>\n",
              "      <td>253</td>\n",
              "    </tr>\n",
              "    <tr>\n",
              "      <th>2</th>\n",
              "      <td>2</td>\n",
              "      <td>amdahl</td>\n",
              "      <td>470v/7a</td>\n",
              "      <td>29</td>\n",
              "      <td>8000</td>\n",
              "      <td>32000</td>\n",
              "      <td>32</td>\n",
              "      <td>8</td>\n",
              "      <td>32</td>\n",
              "      <td>220</td>\n",
              "      <td>253</td>\n",
              "    </tr>\n",
              "    <tr>\n",
              "      <th>3</th>\n",
              "      <td>3</td>\n",
              "      <td>amdahl</td>\n",
              "      <td>470v/7b</td>\n",
              "      <td>29</td>\n",
              "      <td>8000</td>\n",
              "      <td>32000</td>\n",
              "      <td>32</td>\n",
              "      <td>8</td>\n",
              "      <td>32</td>\n",
              "      <td>172</td>\n",
              "      <td>253</td>\n",
              "    </tr>\n",
              "    <tr>\n",
              "      <th>4</th>\n",
              "      <td>4</td>\n",
              "      <td>amdahl</td>\n",
              "      <td>470v/7c</td>\n",
              "      <td>29</td>\n",
              "      <td>8000</td>\n",
              "      <td>16000</td>\n",
              "      <td>32</td>\n",
              "      <td>8</td>\n",
              "      <td>16</td>\n",
              "      <td>132</td>\n",
              "      <td>132</td>\n",
              "    </tr>\n",
              "    <tr>\n",
              "      <th>...</th>\n",
              "      <td>...</td>\n",
              "      <td>...</td>\n",
              "      <td>...</td>\n",
              "      <td>...</td>\n",
              "      <td>...</td>\n",
              "      <td>...</td>\n",
              "      <td>...</td>\n",
              "      <td>...</td>\n",
              "      <td>...</td>\n",
              "      <td>...</td>\n",
              "      <td>...</td>\n",
              "    </tr>\n",
              "    <tr>\n",
              "      <th>204</th>\n",
              "      <td>204</td>\n",
              "      <td>sperry</td>\n",
              "      <td>80/8</td>\n",
              "      <td>124</td>\n",
              "      <td>1000</td>\n",
              "      <td>8000</td>\n",
              "      <td>0</td>\n",
              "      <td>1</td>\n",
              "      <td>8</td>\n",
              "      <td>42</td>\n",
              "      <td>37</td>\n",
              "    </tr>\n",
              "    <tr>\n",
              "      <th>205</th>\n",
              "      <td>205</td>\n",
              "      <td>sperry</td>\n",
              "      <td>90/80-model-3</td>\n",
              "      <td>98</td>\n",
              "      <td>1000</td>\n",
              "      <td>8000</td>\n",
              "      <td>32</td>\n",
              "      <td>2</td>\n",
              "      <td>8</td>\n",
              "      <td>46</td>\n",
              "      <td>50</td>\n",
              "    </tr>\n",
              "    <tr>\n",
              "      <th>206</th>\n",
              "      <td>206</td>\n",
              "      <td>sratus</td>\n",
              "      <td>32</td>\n",
              "      <td>125</td>\n",
              "      <td>2000</td>\n",
              "      <td>8000</td>\n",
              "      <td>0</td>\n",
              "      <td>2</td>\n",
              "      <td>14</td>\n",
              "      <td>52</td>\n",
              "      <td>41</td>\n",
              "    </tr>\n",
              "    <tr>\n",
              "      <th>207</th>\n",
              "      <td>207</td>\n",
              "      <td>wang</td>\n",
              "      <td>vs-100</td>\n",
              "      <td>480</td>\n",
              "      <td>512</td>\n",
              "      <td>8000</td>\n",
              "      <td>32</td>\n",
              "      <td>0</td>\n",
              "      <td>0</td>\n",
              "      <td>67</td>\n",
              "      <td>47</td>\n",
              "    </tr>\n",
              "    <tr>\n",
              "      <th>208</th>\n",
              "      <td>208</td>\n",
              "      <td>wang</td>\n",
              "      <td>vs-90</td>\n",
              "      <td>480</td>\n",
              "      <td>1000</td>\n",
              "      <td>4000</td>\n",
              "      <td>0</td>\n",
              "      <td>0</td>\n",
              "      <td>0</td>\n",
              "      <td>45</td>\n",
              "      <td>25</td>\n",
              "    </tr>\n",
              "  </tbody>\n",
              "</table>\n",
              "<p>209 rows × 11 columns</p>\n",
              "</div>"
            ],
            "text/plain": [
              "     index vendor name     Model Name  MYCT  MMIN  ...  CACH  CHMIN  CHMAX  PRP  ERP\n",
              "0        0     adviser          32/60   125   256  ...   256     16    128  198  199\n",
              "1        1      amdahl         470v/7    29  8000  ...    32      8     32  269  253\n",
              "2        2      amdahl        470v/7a    29  8000  ...    32      8     32  220  253\n",
              "3        3      amdahl        470v/7b    29  8000  ...    32      8     32  172  253\n",
              "4        4      amdahl        470v/7c    29  8000  ...    32      8     16  132  132\n",
              "..     ...         ...            ...   ...   ...  ...   ...    ...    ...  ...  ...\n",
              "204    204      sperry           80/8   124  1000  ...     0      1      8   42   37\n",
              "205    205      sperry  90/80-model-3    98  1000  ...    32      2      8   46   50\n",
              "206    206      sratus             32   125  2000  ...     0      2     14   52   41\n",
              "207    207        wang         vs-100   480   512  ...    32      0      0   67   47\n",
              "208    208        wang          vs-90   480  1000  ...     0      0      0   45   25\n",
              "\n",
              "[209 rows x 11 columns]"
            ]
          },
          "metadata": {
            "tags": []
          },
          "execution_count": 1
        }
      ]
    },
    {
      "cell_type": "markdown",
      "metadata": {
        "id": "u238S03Lkfal",
        "colab_type": "text"
      },
      "source": [
        "\n",
        "\n",
        "---\n",
        "\n",
        "\n",
        "\n"
      ]
    },
    {
      "cell_type": "markdown",
      "metadata": {
        "id": "AOkRk4hjYgNf",
        "colab_type": "text"
      },
      "source": [
        "## **Question 4: For at least five attributes, discuss data quality issues. What might be an appropriate response to the quality issues?**\n",
        "\n",
        "\n",
        "Some examples of data quality issues are:\n",
        "* Noise\n",
        "* Outliers\n",
        "* Missing values\n",
        "* Duplicate data\n",
        "* Wrong data \n",
        "\n"
      ]
    },
    {
      "cell_type": "markdown",
      "metadata": {
        "id": "sFGoG2873Dtc",
        "colab_type": "text"
      },
      "source": [
        "The dataset has no missing values, wrong/duplicate data or noise, but it contains outliers."
      ]
    },
    {
      "cell_type": "code",
      "metadata": {
        "id": "zOATD4Ph3bGN",
        "colab_type": "code",
        "colab": {
          "base_uri": "https://localhost:8080/",
          "height": 34
        },
        "outputId": "bb48c861-b373-42f7-d7ba-58bdd0d629cb"
      },
      "source": [
        "df.isnull().any().any() #checks if there are any null values in the DataFrame"
      ],
      "execution_count": null,
      "outputs": [
        {
          "output_type": "execute_result",
          "data": {
            "text/plain": [
              "False"
            ]
          },
          "metadata": {
            "tags": []
          },
          "execution_count": 48
        }
      ]
    },
    {
      "cell_type": "markdown",
      "metadata": {
        "id": "q9ejvTlSpu7L",
        "colab_type": "text"
      },
      "source": [
        "**Attribute 1:**\n",
        "* Name of the attribute- MYCT: machine cycle time \n",
        "* Measured in nanoseconds (integer)\n",
        "* Data quality issue- Outliers\n",
        "* To solve the data quality issue, we may do the following-\n",
        "  * Remove the rows from the dataframe that contain outlier values.\n",
        "  * Replace the outlier values by mean of the attribute MYCT."
      ]
    },
    {
      "cell_type": "markdown",
      "metadata": {
        "colab_type": "text",
        "id": "u0_u79r8lvnS"
      },
      "source": [
        "**Attribute 2:**\n",
        "* Name of the attribute- MMIN: minimum main memory (it has outliers which can be seen in the box plot drawn in the answer to question no.6 )\n",
        "* Measured in kilobytes (integer)\n",
        "* Data quality issue- Outliers\n",
        "* To solve the data quality issue, we may do the following-\n",
        "  * Remove the rows from the dataframe that contain outlier values.\n",
        "  * Replace the outlier values by mean of the attribute MMIN."
      ]
    },
    {
      "cell_type": "markdown",
      "metadata": {
        "colab_type": "text",
        "id": "JhlII91Amzgu"
      },
      "source": [
        "**Attribute 3:**\n",
        "* Name of the attribute- MMAX: maximum main memory (it has outliers which can be seen in the box plot drawn in the answer to question no.6 )\n",
        "* Measured in kilobytes (integer)\n",
        "* Data quality issue- Outliers\n",
        "* To solve the data quality issue, we may do the following-\n",
        "  * Remove the rows from the dataframe that contain outlier values.\n",
        "  * Replace the outlier values by mean of the attribute MMAX."
      ]
    },
    {
      "cell_type": "markdown",
      "metadata": {
        "colab_type": "text",
        "id": "pg9fTkzmnO1p"
      },
      "source": [
        "**Attribute 4:**\n",
        "* Name of the attribute- CACH: cache memory (it has outliers which can be seen in the box plot drawn in the answer to question no.6 )\n",
        "* Measured in kilobytes (integer)\n",
        "* Data quality issue- Outliers\n",
        "* To solve the data quality issue, we may do the following-\n",
        "  * Remove the rows from the dataframe that contain outlier values.\n",
        "  * Replace the outlier values by mean of the attribute CACH."
      ]
    },
    {
      "cell_type": "markdown",
      "metadata": {
        "colab_type": "text",
        "id": "6H4n8uLhnmGg"
      },
      "source": [
        "**Attribute 5:**\n",
        "* Name of the attribute- CHMIN: minimum channels (it has outliers which can be seen in the box plot drawn in the answer to question no.6 )\n",
        "* Measured  in units (integer)\n",
        "* Data quality issue- Outliers\n",
        "* To solve the data quality issue, we may do the following-\n",
        "  * Remove the rows from the dataframe that contain outlier values.\n",
        "  * Replace the outlier values by mean of the attribute CHMIN."
      ]
    },
    {
      "cell_type": "markdown",
      "metadata": {
        "colab_type": "text",
        "id": "Sb_TUvNun9uH"
      },
      "source": [
        "**Attribute 6:**\n",
        "* Name of the attribute- CHMAX: maximum channels (it has outliers which can be seen in the box plot drawn in the answer to question no.6 )\n",
        "* Measured  in units (integer)\n",
        "* Data quality issue- Outliers\n",
        "* To solve the data quality issue, we may do the following-\n",
        "  * Remove the rows from the dataframe that contain outlier values.\n",
        "  * Replace the outlier values by mean of the attribute CHMAX."
      ]
    },
    {
      "cell_type": "markdown",
      "metadata": {
        "id": "HCMYYeRmoYMT",
        "colab_type": "text"
      },
      "source": [
        "\n",
        "\n",
        "---\n",
        "\n",
        "\n",
        "\n"
      ]
    },
    {
      "cell_type": "markdown",
      "metadata": {
        "id": "Aoi73bgBk75f",
        "colab_type": "text"
      },
      "source": [
        "\n",
        "## **Question 5: For at least one attribute, discuss an appropriate normalization or data reduction technique. Illustrate with the help of an example on a small subset of the data.**"
      ]
    },
    {
      "cell_type": "code",
      "metadata": {
        "id": "ZlkUs-9JtcME",
        "colab_type": "code",
        "colab": {
          "base_uri": "https://localhost:8080/",
          "height": 297
        },
        "outputId": "a05c5c94-5123-4cb9-8142-a1e4b5e7f90e"
      },
      "source": [
        "df.describe() #shows how different the range of different attributes is"
      ],
      "execution_count": null,
      "outputs": [
        {
          "output_type": "execute_result",
          "data": {
            "text/html": [
              "<div>\n",
              "<style scoped>\n",
              "    .dataframe tbody tr th:only-of-type {\n",
              "        vertical-align: middle;\n",
              "    }\n",
              "\n",
              "    .dataframe tbody tr th {\n",
              "        vertical-align: top;\n",
              "    }\n",
              "\n",
              "    .dataframe thead th {\n",
              "        text-align: right;\n",
              "    }\n",
              "</style>\n",
              "<table border=\"1\" class=\"dataframe\">\n",
              "  <thead>\n",
              "    <tr style=\"text-align: right;\">\n",
              "      <th></th>\n",
              "      <th>index</th>\n",
              "      <th>MYCT</th>\n",
              "      <th>MMIN</th>\n",
              "      <th>MMAX</th>\n",
              "      <th>CACH</th>\n",
              "      <th>CHMIN</th>\n",
              "      <th>CHMAX</th>\n",
              "      <th>PRP</th>\n",
              "      <th>ERP</th>\n",
              "    </tr>\n",
              "  </thead>\n",
              "  <tbody>\n",
              "    <tr>\n",
              "      <th>count</th>\n",
              "      <td>209.000000</td>\n",
              "      <td>209.000000</td>\n",
              "      <td>209.000000</td>\n",
              "      <td>209.000000</td>\n",
              "      <td>209.000000</td>\n",
              "      <td>209.000000</td>\n",
              "      <td>209.000000</td>\n",
              "      <td>209.000000</td>\n",
              "      <td>209.000000</td>\n",
              "    </tr>\n",
              "    <tr>\n",
              "      <th>mean</th>\n",
              "      <td>104.000000</td>\n",
              "      <td>203.822967</td>\n",
              "      <td>2867.980861</td>\n",
              "      <td>11796.153110</td>\n",
              "      <td>25.205742</td>\n",
              "      <td>4.698565</td>\n",
              "      <td>18.267943</td>\n",
              "      <td>105.622010</td>\n",
              "      <td>99.330144</td>\n",
              "    </tr>\n",
              "    <tr>\n",
              "      <th>std</th>\n",
              "      <td>60.477268</td>\n",
              "      <td>260.262926</td>\n",
              "      <td>3878.742758</td>\n",
              "      <td>11726.564377</td>\n",
              "      <td>40.628722</td>\n",
              "      <td>6.816274</td>\n",
              "      <td>25.997318</td>\n",
              "      <td>160.830733</td>\n",
              "      <td>154.757102</td>\n",
              "    </tr>\n",
              "    <tr>\n",
              "      <th>min</th>\n",
              "      <td>0.000000</td>\n",
              "      <td>17.000000</td>\n",
              "      <td>64.000000</td>\n",
              "      <td>64.000000</td>\n",
              "      <td>0.000000</td>\n",
              "      <td>0.000000</td>\n",
              "      <td>0.000000</td>\n",
              "      <td>6.000000</td>\n",
              "      <td>15.000000</td>\n",
              "    </tr>\n",
              "    <tr>\n",
              "      <th>25%</th>\n",
              "      <td>52.000000</td>\n",
              "      <td>50.000000</td>\n",
              "      <td>768.000000</td>\n",
              "      <td>4000.000000</td>\n",
              "      <td>0.000000</td>\n",
              "      <td>1.000000</td>\n",
              "      <td>5.000000</td>\n",
              "      <td>27.000000</td>\n",
              "      <td>28.000000</td>\n",
              "    </tr>\n",
              "    <tr>\n",
              "      <th>50%</th>\n",
              "      <td>104.000000</td>\n",
              "      <td>110.000000</td>\n",
              "      <td>2000.000000</td>\n",
              "      <td>8000.000000</td>\n",
              "      <td>8.000000</td>\n",
              "      <td>2.000000</td>\n",
              "      <td>8.000000</td>\n",
              "      <td>50.000000</td>\n",
              "      <td>45.000000</td>\n",
              "    </tr>\n",
              "    <tr>\n",
              "      <th>75%</th>\n",
              "      <td>156.000000</td>\n",
              "      <td>225.000000</td>\n",
              "      <td>4000.000000</td>\n",
              "      <td>16000.000000</td>\n",
              "      <td>32.000000</td>\n",
              "      <td>6.000000</td>\n",
              "      <td>24.000000</td>\n",
              "      <td>113.000000</td>\n",
              "      <td>101.000000</td>\n",
              "    </tr>\n",
              "    <tr>\n",
              "      <th>max</th>\n",
              "      <td>208.000000</td>\n",
              "      <td>1500.000000</td>\n",
              "      <td>32000.000000</td>\n",
              "      <td>64000.000000</td>\n",
              "      <td>256.000000</td>\n",
              "      <td>52.000000</td>\n",
              "      <td>176.000000</td>\n",
              "      <td>1150.000000</td>\n",
              "      <td>1238.000000</td>\n",
              "    </tr>\n",
              "  </tbody>\n",
              "</table>\n",
              "</div>"
            ],
            "text/plain": [
              "            index         MYCT  ...          PRP          ERP\n",
              "count  209.000000   209.000000  ...   209.000000   209.000000\n",
              "mean   104.000000   203.822967  ...   105.622010    99.330144\n",
              "std     60.477268   260.262926  ...   160.830733   154.757102\n",
              "min      0.000000    17.000000  ...     6.000000    15.000000\n",
              "25%     52.000000    50.000000  ...    27.000000    28.000000\n",
              "50%    104.000000   110.000000  ...    50.000000    45.000000\n",
              "75%    156.000000   225.000000  ...   113.000000   101.000000\n",
              "max    208.000000  1500.000000  ...  1150.000000  1238.000000\n",
              "\n",
              "[8 rows x 9 columns]"
            ]
          },
          "metadata": {
            "tags": []
          },
          "execution_count": 47
        }
      ]
    },
    {
      "cell_type": "markdown",
      "metadata": {
        "id": "X89LVjPUtedb",
        "colab_type": "text"
      },
      "source": [
        "\n",
        "**Since the range of values of MYCT,MMIN and MMAX differ largely from CACH,CHMIN,CHMAX we need to normalize all the 6 attributes to make a good model if we need to make a classification/clustering model from the data.**\n",
        "\n",
        "**We can apply MIN-MAX method of normalizing data.**\n",
        "\n",
        "Hence, we normalize all the 6 attributes and now the effect of all the six attributes would be same on the model we try to make. Further, we use linear regression to see if the model retains accuracy in predicting ERP (estimated relative performance) attribute after applying normalization data.\n"
      ]
    },
    {
      "cell_type": "code",
      "metadata": {
        "id": "YXCyZ8Wkpc45",
        "colab_type": "code",
        "colab": {}
      },
      "source": [
        "# applying MIN-MAX method of normalizing data\n",
        "df['MMAX']=(df['MMAX']-df['MMAX'].min() )/ (df['MMAX'].max()-df['MMAX'].min())\n",
        "df['MYCT']=(df['MYCT']-df['MYCT'].min() )/ (df['MYCT'].max()-df['MYCT'].min())\n",
        "df['MMIN']=(df['MMIN']-df['MMIN'].min() )/ (df['MMIN'].max()-df['MMIN'].min())\n",
        "df['CACH']=(df['CACH']-df['CACH'].min() )/ (df['CACH'].max()-df['CACH'].min())\n",
        "df['CHMIN']=(df['CHMIN']-df['CHMIN'].min() )/ (df['CHMIN'].max()-df['CHMIN'].min())\n",
        "df['CHMAX']=(df['CHMAX']-df['CHMAX'].min() )/ (df['CHMAX'].max()-df['CHMAX'].min())\n",
        "\n"
      ],
      "execution_count": 7,
      "outputs": []
    },
    {
      "cell_type": "code",
      "metadata": {
        "id": "AwMfcZkFzcK1",
        "colab_type": "code",
        "colab": {
          "base_uri": "https://localhost:8080/",
          "height": 34
        },
        "outputId": "7a1c1c99-9457-4e1e-92be-f47431267ad8"
      },
      "source": [
        "#Checking accuracy of model in determining ERP (estimated relative performance) using Linear Regression after normalizing the data.\n",
        "\n",
        "from sklearn.preprocessing import StandardScaler\n",
        "from sklearn.model_selection import train_test_split\n",
        "from sklearn import datasets\n",
        "from sklearn.metrics import mean_squared_error\n",
        "from sklearn import linear_model\n",
        "numerical_data=df.iloc[:,3:-1]\n",
        "numerical_data.head()\n",
        "\n",
        "X=numerical_data.iloc[:,:-1]\n",
        "Y=numerical_data.iloc[:,-1]\n",
        "\n",
        "x_training_set,x_test_set,y_training_set,y_test_set = train_test_split(X,Y,test_size=0.20, random_state=42,shuffle=True)\n",
        "model=linear_model.LinearRegression()\n",
        "model.fit(x_training_set,y_training_set)\n",
        "model_score=model.score(x_training_set,y_training_set)\n",
        "y_predicted=model.predict(x_test_set)\n",
        "model_score\n"
      ],
      "execution_count": 12,
      "outputs": [
        {
          "output_type": "execute_result",
          "data": {
            "text/plain": [
              "0.8378284557995717"
            ]
          },
          "metadata": {
            "tags": []
          },
          "execution_count": 12
        }
      ]
    },
    {
      "cell_type": "markdown",
      "metadata": {
        "id": "5fdHXJhAlBgH",
        "colab_type": "text"
      },
      "source": [
        "## **Question 6: For atleast 5 attributes considered in Q4, apply different visualization techniques (histogram 1-D and 2-D, scatter plot 2-D and 3-D, box-plot) using MATLAB, R or Python.**\n"
      ]
    },
    {
      "cell_type": "markdown",
      "metadata": {
        "id": "qztq8Ig-bI4i",
        "colab_type": "text"
      },
      "source": [
        "Attribute 1:\n",
        "\n",
        "**MYCT**: machine cycle time in nanoseconds (integer) \n",
        "\n",
        "We will be plotting a box plot for this attribute."
      ]
    },
    {
      "cell_type": "code",
      "metadata": {
        "id": "kdwbM5vYocGG",
        "colab_type": "code",
        "colab": {
          "base_uri": "https://localhost:8080/",
          "height": 296
        },
        "outputId": "355f8b7f-c6c5-4eea-eb4a-42055cf6b9ef"
      },
      "source": [
        "import seaborn as sns\n",
        "import matplotlib.pyplot as plt\n",
        "\n",
        "sns.boxplot(x = \"MYCT\", data=df, color = \"skyblue\")\n"
      ],
      "execution_count": null,
      "outputs": [
        {
          "output_type": "execute_result",
          "data": {
            "text/plain": [
              "<matplotlib.axes._subplots.AxesSubplot at 0x7f84ba71d550>"
            ]
          },
          "metadata": {
            "tags": []
          },
          "execution_count": 42
        },
        {
          "output_type": "display_data",
          "data": {
            "image/png": "[encoded data removed]",
            "text/plain": [
              "<Figure size 432x288 with 1 Axes>"
            ]
          },
          "metadata": {
            "tags": [],
            "needs_background": "light"
          }
        }
      ]
    },
    {
      "cell_type": "markdown",
      "metadata": {
        "id": "Vwv8DpbKrjst",
        "colab_type": "text"
      },
      "source": [
        "\n",
        "Attribute 2:\n",
        "\n",
        "**MMIN**: minimum main memory in kilobytes (integer)\n",
        "\n",
        "We will be plotting a box plot for this attribute.\n"
      ]
    },
    {
      "cell_type": "code",
      "metadata": {
        "colab_type": "code",
        "id": "1GNUlvuxnUcv",
        "colab": {
          "base_uri": "https://localhost:8080/",
          "height": 296
        },
        "outputId": "c5de82cd-d2c6-4c2d-fc42-fe65b38abc83"
      },
      "source": [
        "import seaborn as sns\n",
        "import matplotlib.pyplot as plt\n",
        "sns.boxplot(data = df, x = \"MMIN\", color = \"green\")\n"
      ],
      "execution_count": null,
      "outputs": [
        {
          "output_type": "execute_result",
          "data": {
            "text/plain": [
              "<matplotlib.axes._subplots.AxesSubplot at 0x7f84ba73bc50>"
            ]
          },
          "metadata": {
            "tags": []
          },
          "execution_count": 43
        },
        {
          "output_type": "display_data",
          "data": {
            "image/png": "[encoded data removed]",
            "text/plain": [
              "<Figure size 432x288 with 1 Axes>"
            ]
          },
          "metadata": {
            "tags": [],
            "needs_background": "light"
          }
        }
      ]
    },
    {
      "cell_type": "markdown",
      "metadata": {
        "id": "CuaCNFI3rr_i",
        "colab_type": "text"
      },
      "source": [
        "\n",
        "Attribute 3:\n",
        "\n",
        "**MMAX**: maximum main memory in kilobytes (integer)\n",
        "\n",
        "We will be plotting a box plot for this attribute.\n"
      ]
    },
    {
      "cell_type": "code",
      "metadata": {
        "colab_type": "code",
        "id": "NbSlovKUnz5b",
        "colab": {
          "base_uri": "https://localhost:8080/",
          "height": 296
        },
        "outputId": "b9b16553-f219-4a3e-93bf-0b190d1f8483"
      },
      "source": [
        "import seaborn as sns\n",
        "import matplotlib.pyplot as plt\n",
        "sns.boxplot(data = df, x = \"MMAX\", color = \"red\")\n"
      ],
      "execution_count": null,
      "outputs": [
        {
          "output_type": "execute_result",
          "data": {
            "text/plain": [
              "<matplotlib.axes._subplots.AxesSubplot at 0x7f84ba6ac438>"
            ]
          },
          "metadata": {
            "tags": []
          },
          "execution_count": 44
        },
        {
          "output_type": "display_data",
          "data": {
            "image/png": "[encoded data removed]",
            "text/plain": [
              "<Figure size 432x288 with 1 Axes>"
            ]
          },
          "metadata": {
            "tags": [],
            "needs_background": "light"
          }
        }
      ]
    },
    {
      "cell_type": "markdown",
      "metadata": {
        "id": "ip1eNFVHrwSo",
        "colab_type": "text"
      },
      "source": [
        "Attribute 4:\n",
        "\n",
        "**CACH**: cache memory in kilobytes (integer)\n",
        "\n",
        "We will be plotting a box plot for this attribute.\n",
        "\n"
      ]
    },
    {
      "cell_type": "code",
      "metadata": {
        "colab_type": "code",
        "id": "aOY6N-KUoM8M",
        "colab": {
          "base_uri": "https://localhost:8080/",
          "height": 296
        },
        "outputId": "3ea5622e-5774-41e1-bf69-4fbc4c8940d5"
      },
      "source": [
        "import seaborn as sns\n",
        "import matplotlib.pyplot as plt\n",
        "sns.boxplot(data = df, x = \"CACH\", color = \"yellow\")\n"
      ],
      "execution_count": null,
      "outputs": [
        {
          "output_type": "execute_result",
          "data": {
            "text/plain": [
              "<matplotlib.axes._subplots.AxesSubplot at 0x7f84ba5c12e8>"
            ]
          },
          "metadata": {
            "tags": []
          },
          "execution_count": 45
        },
        {
          "output_type": "display_data",
          "data": {
            "image/png": "[encoded data removed]",
            "text/plain": [
              "<Figure size 432x288 with 1 Axes>"
            ]
          },
          "metadata": {
            "tags": [],
            "needs_background": "light"
          }
        }
      ]
    },
    {
      "cell_type": "markdown",
      "metadata": {
        "id": "TC8P0XO0r0ct",
        "colab_type": "text"
      },
      "source": [
        "Attribute 5:\n",
        "\n",
        "**CHMIN**: minimum channels in units (integer)\n",
        "\n",
        "We will be plotting a box plot for this attribute.\n",
        "\n"
      ]
    },
    {
      "cell_type": "code",
      "metadata": {
        "colab_type": "code",
        "id": "0QF0oEl0orGa",
        "colab": {
          "base_uri": "https://localhost:8080/",
          "height": 296
        },
        "outputId": "dd8d10ea-7d0e-4baf-fb5a-8cd00d618db7"
      },
      "source": [
        "import seaborn as sns\n",
        "import matplotlib.pyplot as plt\n",
        "sns.boxplot(data = df, x = \"CHMIN\", color = \"magenta\")\n"
      ],
      "execution_count": null,
      "outputs": [
        {
          "output_type": "execute_result",
          "data": {
            "text/plain": [
              "<matplotlib.axes._subplots.AxesSubplot at 0x7f84ba5b2198>"
            ]
          },
          "metadata": {
            "tags": []
          },
          "execution_count": 46
        },
        {
          "output_type": "display_data",
          "data": {
            "image/png": "[encoded data removed]",
            "text/plain": [
              "<Figure size 432x288 with 1 Axes>"
            ]
          },
          "metadata": {
            "tags": [],
            "needs_background": "light"
          }
        }
      ]
    },
    {
      "cell_type": "markdown",
      "metadata": {
        "id": "r1RZkOaIr-MU",
        "colab_type": "text"
      },
      "source": [
        "Attribute 6:\n",
        "\n",
        "**CHMAX**: maximum channels in units (integer)\n",
        "\n",
        "We will be plotting a box plot for this attribute."
      ]
    },
    {
      "cell_type": "code",
      "metadata": {
        "colab_type": "code",
        "id": "mKREPuido1h1",
        "colab": {
          "base_uri": "https://localhost:8080/",
          "height": 296
        },
        "outputId": "3c5344ce-912a-4c83-cfe5-3b79eedcad96"
      },
      "source": [
        "import seaborn as sns\n",
        "import matplotlib.pyplot as plt\n",
        "sns.boxplot(data = df, x = \"CHMAX\", color = \"blue\")\n"
      ],
      "execution_count": null,
      "outputs": [
        {
          "output_type": "execute_result",
          "data": {
            "text/plain": [
              "<matplotlib.axes._subplots.AxesSubplot at 0x7f84ba5b2940>"
            ]
          },
          "metadata": {
            "tags": []
          },
          "execution_count": 47
        },
        {
          "output_type": "display_data",
          "data": {
            "image/png": "[encoded data removed]",
            "text/plain": [
              "<Figure size 432x288 with 1 Axes>"
            ]
          },
          "metadata": {
            "tags": [],
            "needs_background": "light"
          }
        }
      ]
    },
    {
      "cell_type": "markdown",
      "metadata": {
        "id": "P-JPW2Rax_IS",
        "colab_type": "text"
      },
      "source": [
        "## References:\n",
        "\n",
        "http://archive.ics.uci.edu/ml/datasets/Computer+Hardware\n",
        "\n",
        "## GitHub link to access code:\n",
        "\n",
        "https://github.com/pranavgurditta/Data-Mining/"
      ]
    },
    {
      "cell_type": "code",
      "metadata": {
        "id": "iwNlcunZyLna",
        "colab_type": "code",
        "colab": {}
      },
      "source": [
        ""
      ],
      "execution_count": null,
      "outputs": []
    }
  ]
}